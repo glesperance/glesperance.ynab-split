{
 "cells": [
  {
   "cell_type": "code",
   "execution_count": null,
   "metadata": {},
   "outputs": [],
   "source": [
    "%load_ext dotenv\n",
    "%dotenv"
   ]
  },
  {
   "cell_type": "code",
   "execution_count": null,
   "metadata": {},
   "outputs": [],
   "source": [
    "# from ynab_split.sheets.service import get_user_credentials\n",
    "# get_user_credentials()"
   ]
  },
  {
   "cell_type": "code",
   "execution_count": null,
   "metadata": {},
   "outputs": [],
   "source": [
    "import yaml\n",
    "from ynab_split.sync.config import SyncSettings\n",
    "\n",
    "with open(\"../config.yml\", \"r\") as f:\n",
    "    settings = SyncSettings.model_validate(yaml.safe_load(f))"
   ]
  },
  {
   "cell_type": "code",
   "execution_count": null,
   "metadata": {},
   "outputs": [],
   "source": [
    "from ynab_split.sync.service import get_all_transactions, sync\n",
    "await sync(settings)"
   ]
  }
 ],
 "metadata": {
  "kernelspec": {
   "display_name": "glesperance-ynab-split-GPWyaLBO-py3.12",
   "language": "python",
   "name": "python3"
  },
  "language_info": {
   "codemirror_mode": {
    "name": "ipython",
    "version": 3
   },
   "file_extension": ".py",
   "mimetype": "text/x-python",
   "name": "python",
   "nbconvert_exporter": "python",
   "pygments_lexer": "ipython3",
   "version": "3.12.4"
  }
 },
 "nbformat": 4,
 "nbformat_minor": 2
}
