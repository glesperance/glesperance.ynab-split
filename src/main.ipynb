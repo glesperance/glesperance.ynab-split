{
 "cells": [
  {
   "cell_type": "code",
   "execution_count": 1,
   "metadata": {},
   "outputs": [],
   "source": [
    "%load_ext dotenv\n",
    "%dotenv"
   ]
  },
  {
   "cell_type": "code",
   "execution_count": 2,
   "metadata": {},
   "outputs": [],
   "source": [
    "# from ynab_split.sheets.service import get_user_credentials\n",
    "# get_user_credentials()"
   ]
  },
  {
   "cell_type": "markdown",
   "metadata": {},
   "source": []
  },
  {
   "cell_type": "code",
   "execution_count": 3,
   "metadata": {},
   "outputs": [],
   "source": [
    "import yaml\n",
    "from ynab_split.sync.config import SyncSettings\n",
    "\n",
    "with open(\"../config.yml\", \"r\") as f:\n",
    "    settings = SyncSettings.model_validate(yaml.safe_load(f))"
   ]
  },
  {
   "cell_type": "code",
   "execution_count": null,
   "metadata": {},
   "outputs": [],
   "source": [
    "from ynab_split.sync.service import get_all_transactions, sync\n",
    "# await sync(settings)\n",
    "await get_all_transactions(settings)"
   ]
  },
  {
   "cell_type": "code",
   "execution_count": 5,
   "metadata": {},
   "outputs": [],
   "source": [
    "from splitwise import Splitwise\n",
    "\n",
    "from ynab_split.splitwise.config import splitwise_client_settings\n",
    "\n",
    "sw = Splitwise(\n",
    "    splitwise_client_settings.consumer_key,\n",
    "    splitwise_client_settings.consumer_secret,\n",
    "    api_key=splitwise_client_settings.api_key,\n",
    ")\n"
   ]
  },
  {
   "cell_type": "code",
   "execution_count": null,
   "metadata": {},
   "outputs": [],
   "source": [
    "from ynab_split.splitwise.service import describe_groups\n",
    "describe_groups(sw)\n",
    "\n"
   ]
  },
  {
   "cell_type": "code",
   "execution_count": null,
   "metadata": {},
   "outputs": [],
   "source": [
    "from ynab_split.splitwise.service import create_group_expense\n",
    "from datetime import date\n",
    "import json\n",
    "\n",
    "create_group_expense(\n",
    "    sw, \n",
    "    group_id=77728222, \n",
    "    amount=103.57,\n",
    "    date=date(2024, 1, 28), \n",
    "    description=\"Test expense\", \n",
    "    details=json.dumps({\n",
    "        \"source\": \"ynab_split\",\n",
    "        \"ynab_transaction_id\": \"test-ynab-transaction-id\"\n",
    "    }, indent=4)\n",
    ")"
   ]
  },
  {
   "cell_type": "code",
   "execution_count": 32,
   "metadata": {},
   "outputs": [],
   "source": [
    "from ynab_split.splitwise.service import get_group_expenses\n",
    "df = get_group_expenses(sw, group_id=77728222)"
   ]
  },
  {
   "cell_type": "code",
   "execution_count": null,
   "metadata": {},
   "outputs": [],
   "source": [
    "import polars as pl\n",
    "def is_valid_json(s):\n",
    "    try:\n",
    "        json.loads(s)\n",
    "        return True\n",
    "    except Exception:\n",
    "        return False\n",
    "\n",
    "\n",
    "(\n",
    "    df\n",
    "    .filter(pl.col(\"details\").map_elements(is_valid_json))\n",
    "    .filter(\n",
    "        pl.col(\"details\").map_elements(lambda x: json.loads(x).get(\"source\"))\n",
    "        .eq(\"ynab_split\"))\n",
    ")"
   ]
  },
  {
   "cell_type": "code",
   "execution_count": null,
   "metadata": {},
   "outputs": [],
   "source": []
  }
 ],
 "metadata": {
  "kernelspec": {
   "display_name": ".venv",
   "language": "python",
   "name": "python3"
  },
  "language_info": {
   "codemirror_mode": {
    "name": "ipython",
    "version": 3
   },
   "file_extension": ".py",
   "mimetype": "text/x-python",
   "name": "python",
   "nbconvert_exporter": "python",
   "pygments_lexer": "ipython3",
   "version": "3.12.0"
  }
 },
 "nbformat": 4,
 "nbformat_minor": 2
}
